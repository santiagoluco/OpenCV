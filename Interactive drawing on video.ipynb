{
 "cells": [
  {
   "cell_type": "markdown",
   "id": "e9d7d889",
   "metadata": {},
   "source": [
    "# Drawing an image on a Video"
   ]
  },
  {
   "cell_type": "markdown",
   "id": "25c49571",
   "metadata": {},
   "source": [
    "This project is about to draw a circle on a video. The program reads in a live stream from a camera on the computer. Then whenever you click the left mouse button down, create a blue circle around where you've clicked."
   ]
  },
  {
   "cell_type": "code",
   "execution_count": 3,
   "id": "af90678f",
   "metadata": {},
   "outputs": [],
   "source": [
    "# IMPORTS\n",
    "import cv2\n",
    "import numpy as np"
   ]
  },
  {
   "cell_type": "code",
   "execution_count": 4,
   "id": "39bdca4e",
   "metadata": {},
   "outputs": [],
   "source": [
    "# PROGRAM\n",
    "\n",
    "# mouse callback function\n",
    "\n",
    "def draw_circle(event,x,y,flags,param):\n",
    "\n",
    "    global center,clicked\n",
    "\n",
    "    # get mouse click on down and track center\n",
    "    # using a boolean variable to track if the mouse has been released\n",
    "    \n",
    "    if event == cv2.EVENT_LBUTTONDOWN:\n",
    "\n",
    "        if clicked == True:\n",
    "            clicked = False\n",
    "            center = (0,0)\n",
    "\n",
    "        if clicked == False:\n",
    "            center = (x,y)\n",
    "            clicked = True\n",
    "            \n",
    "        \n",
    "# Variables to define center of circle and to know if the click has already made\n",
    "center = (0,0)\n",
    "clicked = False\n",
    "\n",
    "\n",
    "# Capture Video\n",
    "\n",
    "cap = cv2.VideoCapture(0)\n",
    "\n",
    "# Create a named window for connections\n",
    "\n",
    "cv2.namedWindow('Myself')\n",
    "\n",
    "# Bind draw_rectangle function to mouse cliks\n",
    "\n",
    "cv2.setMouseCallback('Myself',draw_circle)\n",
    "\n",
    "\n",
    "while True:\n",
    "    # Capture frame-by-frame\n",
    " \n",
    "    ret,frame = cap.read()\n",
    "\n",
    "    # Use if statement to see if clicked is true\n",
    "   \n",
    "    if clicked == True:\n",
    "\n",
    "        # Draw circle on frame\n",
    "        cv2.circle(frame,center,5,(0,0,255),3)\n",
    "        \n",
    "    # Display the resulting frame\n",
    "    \n",
    "    cv2.imshow('Myself',frame)\n",
    "\n",
    "    # This command let's us quit with the \"q\" button on a keyboard.\n",
    "    \n",
    "    if cv2.waitKey(1) & 0xFF == ord('q'):\n",
    "        break\n",
    "\n",
    "        \n",
    "# When everything is done, releasing the capture\n",
    "\n",
    "cap.release()\n",
    "cv2.destroyAllWindows()"
   ]
  }
 ],
 "metadata": {
  "kernelspec": {
   "display_name": "Python 3 (ipykernel)",
   "language": "python",
   "name": "python3"
  },
  "language_info": {
   "codemirror_mode": {
    "name": "ipython",
    "version": 3
   },
   "file_extension": ".py",
   "mimetype": "text/x-python",
   "name": "python",
   "nbconvert_exporter": "python",
   "pygments_lexer": "ipython3",
   "version": "3.9.13"
  }
 },
 "nbformat": 4,
 "nbformat_minor": 5
}
